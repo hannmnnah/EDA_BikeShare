{
  "nbformat": 4,
  "nbformat_minor": 0,
  "metadata": {
    "colab": {
      "name": "fill_gu_last",
      "provenance": [],
      "collapsed_sections": [],
      "include_colab_link": true
    },
    "kernelspec": {
      "name": "python3",
      "display_name": "Python 3"
    }
  },
  "cells": [
    {
      "cell_type": "markdown",
      "metadata": {
        "id": "view-in-github",
        "colab_type": "text"
      },
      "source": [
        "<a href=\"https://colab.research.google.com/github/sukyeonging/EDA_BikeShare/blob/Hana/fill_gu_last.ipynb\" target=\"_parent\"><img src=\"https://colab.research.google.com/assets/colab-badge.svg\" alt=\"Open In Colab\"/></a>"
      ]
    },
    {
      "cell_type": "code",
      "metadata": {
        "id": "Y-thNett6PWj"
      },
      "source": [
        ""
      ],
      "execution_count": null,
      "outputs": []
    },
    {
      "cell_type": "code",
      "metadata": {
        "id": "Cox5DA2SICew"
      },
      "source": [
        "from google.colab import drive\n",
        "drive.mount('/content/drive')\n",
        "!ls /content/drive"
      ],
      "execution_count": null,
      "outputs": []
    },
    {
      "cell_type": "code",
      "metadata": {
        "id": "ug5Gp8U5A_hK"
      },
      "source": [
        "import pickle\n",
        "import pandas as pd\n",
        "import numpy as np\n",
        "import matplotlib.pyplot as plt\n",
        "import seaborn as sns\n",
        "import matplotlib.pyplot as plt\n",
        "plt.rc('font', family = 'NanumBarunGothic')"
      ],
      "execution_count": null,
      "outputs": []
    },
    {
      "cell_type": "code",
      "metadata": {
        "id": "Cp8-99KHTdia"
      },
      "source": [
        "!pwd"
      ],
      "execution_count": null,
      "outputs": []
    },
    {
      "cell_type": "markdown",
      "metadata": {
        "id": "XW4Cu2LsYa7C"
      },
      "source": [
        ""
      ]
    },
    {
      "cell_type": "code",
      "metadata": {
        "id": "wFy9ARKgTfQT"
      },
      "source": [
        "!ls /content/drive/My\\ Drive/EDA_HANA"
      ],
      "execution_count": null,
      "outputs": []
    },
    {
      "cell_type": "code",
      "metadata": {
        "id": "5-VRsZNGGPYf"
      },
      "source": [
        "import pickle\n",
        "DATA_PATH = \"/content/drive/My Drive/EDA_HANA\"\n",
        "infile = open(DATA_PATH +'/yes20.pkl','rb')\n",
        "yes20 = pickle.load(infile)"
      ],
      "execution_count": null,
      "outputs": []
    },
    {
      "cell_type": "code",
      "metadata": {
        "id": "QaF4tl-Ji32c"
      },
      "source": [
        "bike_stops = pd.read_csv('/content/drive/My Drive/EDA_HANA/대여소정보_2018.csv의 사본', encoding= 'utf-8')\n",
        "bike_stops.tail()"
      ],
      "execution_count": null,
      "outputs": []
    },
    {
      "cell_type": "code",
      "metadata": {
        "id": "oYQ5a3BPi3i4"
      },
      "source": [
        "yes20.tail()"
      ],
      "execution_count": null,
      "outputs": []
    },
    {
      "cell_type": "code",
      "metadata": {
        "id": "Le6XXxb1iaX9"
      },
      "source": [
        "#'구'컬럼 만들어주기\n",
        "yes20['구'] = '구'"
      ],
      "execution_count": null,
      "outputs": []
    },
    {
      "cell_type": "code",
      "metadata": {
        "id": "eRJkbwQTVfhS"
      },
      "source": [
        "# test 데이터 만들어주기\n",
        "test = yes20.loc[:20]\n",
        "test"
      ],
      "execution_count": null,
      "outputs": []
    },
    {
      "cell_type": "code",
      "metadata": {
        "id": "Tynpx08DQten"
      },
      "source": [
        "#비교할 컬럼 데이터 타입 맞춰주기\n",
        "\n",
        "yes20['대여소번호'] = yes20['대여소번호'].astype(str)\n",
        "bike_stops['대여소번호'] = bike_stops['대여소번호'].astype(str)\n",
        "\n",
        "yes20.dtypes, bike_stops.dtypes"
      ],
      "execution_count": null,
      "outputs": []
    },
    {
      "cell_type": "code",
      "metadata": {
        "id": "cDX1B0CHQt2y"
      },
      "source": [
        "#구-대여소번호 값 만들어 주기\n",
        "\n",
        "gu_ = bike_stops['대여소_구'].unique()\n",
        "gu_ls = list(gu_)\n",
        "gu_ls"
      ],
      "execution_count": null,
      "outputs": []
    },
    {
      "cell_type": "code",
      "metadata": {
        "id": "T2ZWIE4SQt9M"
      },
      "source": [
        "gu_ss = []\n",
        "for gu in gu_ls:\n",
        "    rental_no = bike_stops.groupby('대여소_구')['대여소번호'].unique().loc[gu]\n",
        "    gu_ss.append({gu : rental_no})\n",
        "gu_ss"
      ],
      "execution_count": null,
      "outputs": []
    },
    {
      "cell_type": "code",
      "metadata": {
        "id": "Uqqv7GBKQuDG"
      },
      "source": [
        "# list of dictionary to dictionary\n",
        "dic_gu_ss = dict((key,d[key]) for d in gu_ss for key in d)\n",
        "dic_gu_ss"
      ],
      "execution_count": null,
      "outputs": []
    },
    {
      "cell_type": "code",
      "metadata": {
        "id": "2uu9coX4iCaD"
      },
      "source": [
        "gu_ss_keys = list(dic_gu_ss.keys())\n",
        "gu_ss_value = list(dic_gu_ss.values())\n",
        "gu_ss_keys,gu_ss_value"
      ],
      "execution_count": null,
      "outputs": []
    },
    {
      "cell_type": "code",
      "metadata": {
        "id": "_vSx8xD6QuIl"
      },
      "source": [
        "gu_list = list(zip(gu_ss_keys,gu_ss_value))\n",
        "gu_list"
      ],
      "execution_count": null,
      "outputs": []
    },
    {
      "cell_type": "code",
      "metadata": {
        "id": "-n6Fup2UUcdg"
      },
      "source": [
        "# 10시간돌렸는데 와이파이 잠깐 끊겨서 수포로 돌아감><, 데이터 다쓰지 않고, random_sample 3000개 하기로 함!\n",
        "for j in range(len(gu_list)):\n",
        "    for i in range(len(yes20)):\n",
        "        if yes20['대여소번호'].loc[i] in gu_list[j][1]:\n",
        "            yes20['구'].loc[i] = gu_list[j][0]\n",
        "            print(j,'/',i,'/',len(yes20))\n",
        "# yes20.tail()"
      ],
      "execution_count": null,
      "outputs": []
    },
    {
      "cell_type": "markdown",
      "metadata": {
        "id": "cPlxUO0_xY7O"
      },
      "source": [
        ""
      ]
    },
    {
      "cell_type": "code",
      "metadata": {
        "id": "OXZOQK5RQt6L"
      },
      "source": [
        ""
      ],
      "execution_count": null,
      "outputs": []
    },
    {
      "cell_type": "code",
      "metadata": {
        "id": "RmAPqCcvQtvP"
      },
      "source": [
        ""
      ],
      "execution_count": null,
      "outputs": []
    },
    {
      "cell_type": "code",
      "metadata": {
        "id": "tpMQkKUdQthx"
      },
      "source": [
        ""
      ],
      "execution_count": null,
      "outputs": []
    },
    {
      "cell_type": "code",
      "metadata": {
        "id": "u3zAdQbEQtTh"
      },
      "source": [
        ""
      ],
      "execution_count": null,
      "outputs": []
    }
  ]
}